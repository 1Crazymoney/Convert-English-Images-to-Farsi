{
  "nbformat": 4,
  "nbformat_minor": 0,
  "metadata": {
    "colab": {
      "provenance": [],
      "mount_file_id": "1gLfEwNwO-AJzjQ5DuhPqI8KfFoO636fl",
      "authorship_tag": "ABX9TyNYF/xm+qEqSU+LrqIlprt0",
      "include_colab_link": true
    },
    "kernelspec": {
      "name": "python3",
      "display_name": "Python 3"
    },
    "language_info": {
      "name": "python"
    }
  },
  "cells": [
    {
      "cell_type": "markdown",
      "metadata": {
        "id": "view-in-github",
        "colab_type": "text"
      },
      "source": [
        "<a href=\"https://colab.research.google.com/github/ParhamPishro/Convert-English-Images-to-Farsi/blob/main/Image_Crawling.ipynb\" target=\"_parent\"><img src=\"https://colab.research.google.com/assets/colab-badge.svg\" alt=\"Open In Colab\"/></a>"
      ]
    },
    {
      "cell_type": "code",
      "source": [
        "!pip install icrawler\n",
        "!pip install easyocr\n",
        "!pip install pyspellchecker\n",
        "!pip install fuzzywuzzy\n",
        "!pip install python-Levenshtein\n",
        "!pip install deep-translator"
      ],
      "metadata": {
        "colab": {
          "base_uri": "https://localhost:8080/"
        },
        "id": "-bevyg3Oykhw",
        "outputId": "a60ca452-7b78-4ff3-a73c-b13c2607dd95"
      },
      "execution_count": null,
      "outputs": [
        {
          "output_type": "stream",
          "name": "stdout",
          "text": [
            "Looking in indexes: https://pypi.org/simple, https://us-python.pkg.dev/colab-wheels/public/simple/\n",
            "Collecting icrawler\n",
            "  Downloading icrawler-0.6.6-py2.py3-none-any.whl (35 kB)\n",
            "Requirement already satisfied: Pillow in /usr/local/lib/python3.9/dist-packages (from icrawler) (8.4.0)\n",
            "Requirement already satisfied: requests>=2.9.1 in /usr/local/lib/python3.9/dist-packages (from icrawler) (2.27.1)\n",
            "Requirement already satisfied: six>=1.10.0 in /usr/local/lib/python3.9/dist-packages (from icrawler) (1.16.0)\n",
            "Requirement already satisfied: lxml in /usr/local/lib/python3.9/dist-packages (from icrawler) (4.9.2)\n",
            "Requirement already satisfied: beautifulsoup4>=4.4.1 in /usr/local/lib/python3.9/dist-packages (from icrawler) (4.11.2)\n",
            "Requirement already satisfied: soupsieve>1.2 in /usr/local/lib/python3.9/dist-packages (from beautifulsoup4>=4.4.1->icrawler) (2.4)\n",
            "Requirement already satisfied: certifi>=2017.4.17 in /usr/local/lib/python3.9/dist-packages (from requests>=2.9.1->icrawler) (2022.12.7)\n",
            "Requirement already satisfied: charset-normalizer~=2.0.0 in /usr/local/lib/python3.9/dist-packages (from requests>=2.9.1->icrawler) (2.0.12)\n",
            "Requirement already satisfied: urllib3<1.27,>=1.21.1 in /usr/local/lib/python3.9/dist-packages (from requests>=2.9.1->icrawler) (1.26.15)\n",
            "Requirement already satisfied: idna<4,>=2.5 in /usr/local/lib/python3.9/dist-packages (from requests>=2.9.1->icrawler) (3.4)\n",
            "Installing collected packages: icrawler\n",
            "Successfully installed icrawler-0.6.6\n",
            "Looking in indexes: https://pypi.org/simple, https://us-python.pkg.dev/colab-wheels/public/simple/\n",
            "Collecting easyocr\n",
            "  Downloading easyocr-1.6.2-py3-none-any.whl (2.9 MB)\n",
            "\u001b[2K     \u001b[90m━━━━━━━━━━━━━━━━━━━━━━━━━━━━━━━━━━━━━━━━\u001b[0m \u001b[32m2.9/2.9 MB\u001b[0m \u001b[31m45.7 MB/s\u001b[0m eta \u001b[36m0:00:00\u001b[0m\n",
            "\u001b[?25hRequirement already satisfied: scipy in /usr/local/lib/python3.9/dist-packages (from easyocr) (1.10.1)\n",
            "Requirement already satisfied: PyYAML in /usr/local/lib/python3.9/dist-packages (from easyocr) (6.0)\n",
            "Collecting pyclipper\n",
            "  Downloading pyclipper-1.3.0.post4-cp39-cp39-manylinux_2_5_x86_64.manylinux1_x86_64.whl (608 kB)\n",
            "\u001b[2K     \u001b[90m━━━━━━━━━━━━━━━━━━━━━━━━━━━━━━━━━━━━━━\u001b[0m \u001b[32m608.2/608.2 kB\u001b[0m \u001b[31m53.1 MB/s\u001b[0m eta \u001b[36m0:00:00\u001b[0m\n",
            "\u001b[?25hRequirement already satisfied: scikit-image in /usr/local/lib/python3.9/dist-packages (from easyocr) (0.19.3)\n",
            "Requirement already satisfied: torchvision>=0.5 in /usr/local/lib/python3.9/dist-packages (from easyocr) (0.15.1+cu118)\n",
            "Collecting python-bidi\n",
            "  Downloading python_bidi-0.4.2-py2.py3-none-any.whl (30 kB)\n",
            "Requirement already satisfied: Pillow in /usr/local/lib/python3.9/dist-packages (from easyocr) (8.4.0)\n",
            "Requirement already satisfied: numpy in /usr/local/lib/python3.9/dist-packages (from easyocr) (1.22.4)\n",
            "Requirement already satisfied: Shapely in /usr/local/lib/python3.9/dist-packages (from easyocr) (2.0.1)\n",
            "Collecting opencv-python-headless<=4.5.4.60\n",
            "  Downloading opencv_python_headless-4.5.4.60-cp39-cp39-manylinux_2_17_x86_64.manylinux2014_x86_64.whl (47.6 MB)\n",
            "\u001b[2K     \u001b[90m━━━━━━━━━━━━━━━━━━━━━━━━━━━━━━━━━━━━━━━━\u001b[0m \u001b[32m47.6/47.6 MB\u001b[0m \u001b[31m18.2 MB/s\u001b[0m eta \u001b[36m0:00:00\u001b[0m\n",
            "\u001b[?25hRequirement already satisfied: torch in /usr/local/lib/python3.9/dist-packages (from easyocr) (2.0.0+cu118)\n",
            "Collecting ninja\n",
            "  Downloading ninja-1.11.1-py2.py3-none-manylinux_2_12_x86_64.manylinux2010_x86_64.whl (145 kB)\n",
            "\u001b[2K     \u001b[90m━━━━━━━━━━━━━━━━━━━━━━━━━━━━━━━━━━━━━━\u001b[0m \u001b[32m146.0/146.0 kB\u001b[0m \u001b[31m19.5 MB/s\u001b[0m eta \u001b[36m0:00:00\u001b[0m\n",
            "\u001b[?25hRequirement already satisfied: requests in /usr/local/lib/python3.9/dist-packages (from torchvision>=0.5->easyocr) (2.27.1)\n",
            "Requirement already satisfied: filelock in /usr/local/lib/python3.9/dist-packages (from torch->easyocr) (3.11.0)\n",
            "Requirement already satisfied: jinja2 in /usr/local/lib/python3.9/dist-packages (from torch->easyocr) (3.1.2)\n",
            "Requirement already satisfied: networkx in /usr/local/lib/python3.9/dist-packages (from torch->easyocr) (3.1)\n",
            "Requirement already satisfied: sympy in /usr/local/lib/python3.9/dist-packages (from torch->easyocr) (1.11.1)\n",
            "Requirement already satisfied: typing-extensions in /usr/local/lib/python3.9/dist-packages (from torch->easyocr) (4.5.0)\n",
            "Requirement already satisfied: triton==2.0.0 in /usr/local/lib/python3.9/dist-packages (from torch->easyocr) (2.0.0)\n",
            "Requirement already satisfied: lit in /usr/local/lib/python3.9/dist-packages (from triton==2.0.0->torch->easyocr) (16.0.1)\n",
            "Requirement already satisfied: cmake in /usr/local/lib/python3.9/dist-packages (from triton==2.0.0->torch->easyocr) (3.25.2)\n",
            "Requirement already satisfied: six in /usr/local/lib/python3.9/dist-packages (from python-bidi->easyocr) (1.16.0)\n",
            "Requirement already satisfied: tifffile>=2019.7.26 in /usr/local/lib/python3.9/dist-packages (from scikit-image->easyocr) (2023.3.21)\n",
            "Requirement already satisfied: PyWavelets>=1.1.1 in /usr/local/lib/python3.9/dist-packages (from scikit-image->easyocr) (1.4.1)\n",
            "Requirement already satisfied: imageio>=2.4.1 in /usr/local/lib/python3.9/dist-packages (from scikit-image->easyocr) (2.25.1)\n",
            "Requirement already satisfied: packaging>=20.0 in /usr/local/lib/python3.9/dist-packages (from scikit-image->easyocr) (23.0)\n",
            "Requirement already satisfied: MarkupSafe>=2.0 in /usr/local/lib/python3.9/dist-packages (from jinja2->torch->easyocr) (2.1.2)\n",
            "Requirement already satisfied: idna<4,>=2.5 in /usr/local/lib/python3.9/dist-packages (from requests->torchvision>=0.5->easyocr) (3.4)\n",
            "Requirement already satisfied: urllib3<1.27,>=1.21.1 in /usr/local/lib/python3.9/dist-packages (from requests->torchvision>=0.5->easyocr) (1.26.15)\n",
            "Requirement already satisfied: certifi>=2017.4.17 in /usr/local/lib/python3.9/dist-packages (from requests->torchvision>=0.5->easyocr) (2022.12.7)\n",
            "Requirement already satisfied: charset-normalizer~=2.0.0 in /usr/local/lib/python3.9/dist-packages (from requests->torchvision>=0.5->easyocr) (2.0.12)\n",
            "Requirement already satisfied: mpmath>=0.19 in /usr/local/lib/python3.9/dist-packages (from sympy->torch->easyocr) (1.3.0)\n",
            "Installing collected packages: pyclipper, ninja, python-bidi, opencv-python-headless, easyocr\n",
            "  Attempting uninstall: opencv-python-headless\n",
            "    Found existing installation: opencv-python-headless 4.7.0.72\n",
            "    Uninstalling opencv-python-headless-4.7.0.72:\n",
            "      Successfully uninstalled opencv-python-headless-4.7.0.72\n",
            "Successfully installed easyocr-1.6.2 ninja-1.11.1 opencv-python-headless-4.5.4.60 pyclipper-1.3.0.post4 python-bidi-0.4.2\n",
            "Looking in indexes: https://pypi.org/simple, https://us-python.pkg.dev/colab-wheels/public/simple/\n",
            "Collecting pyspellchecker\n",
            "  Downloading pyspellchecker-0.7.1-py3-none-any.whl (2.5 MB)\n",
            "\u001b[2K     \u001b[90m━━━━━━━━━━━━━━━━━━━━━━━━━━━━━━━━━━━━━━━━\u001b[0m \u001b[32m2.5/2.5 MB\u001b[0m \u001b[31m41.3 MB/s\u001b[0m eta \u001b[36m0:00:00\u001b[0m\n",
            "\u001b[?25hInstalling collected packages: pyspellchecker\n",
            "Successfully installed pyspellchecker-0.7.1\n",
            "Looking in indexes: https://pypi.org/simple, https://us-python.pkg.dev/colab-wheels/public/simple/\n",
            "Collecting fuzzywuzzy\n",
            "  Downloading fuzzywuzzy-0.18.0-py2.py3-none-any.whl (18 kB)\n",
            "Installing collected packages: fuzzywuzzy\n",
            "Successfully installed fuzzywuzzy-0.18.0\n",
            "Looking in indexes: https://pypi.org/simple, https://us-python.pkg.dev/colab-wheels/public/simple/\n",
            "Collecting python-Levenshtein\n",
            "  Downloading python_Levenshtein-0.20.9-py3-none-any.whl (9.4 kB)\n",
            "Collecting Levenshtein==0.20.9\n",
            "  Downloading Levenshtein-0.20.9-cp39-cp39-manylinux_2_17_x86_64.manylinux2014_x86_64.whl (175 kB)\n",
            "\u001b[2K     \u001b[90m━━━━━━━━━━━━━━━━━━━━━━━━━━━━━━━━━━━━━━━\u001b[0m \u001b[32m175.5/175.5 kB\u001b[0m \u001b[31m7.1 MB/s\u001b[0m eta \u001b[36m0:00:00\u001b[0m\n",
            "\u001b[?25hCollecting rapidfuzz<3.0.0,>=2.3.0\n",
            "  Downloading rapidfuzz-2.15.1-cp39-cp39-manylinux_2_17_x86_64.manylinux2014_x86_64.whl (3.0 MB)\n",
            "\u001b[2K     \u001b[90m━━━━━━━━━━━━━━━━━━━━━━━━━━━━━━━━━━━━━━━━\u001b[0m \u001b[32m3.0/3.0 MB\u001b[0m \u001b[31m66.0 MB/s\u001b[0m eta \u001b[36m0:00:00\u001b[0m\n",
            "\u001b[?25hInstalling collected packages: rapidfuzz, Levenshtein, python-Levenshtein\n",
            "Successfully installed Levenshtein-0.20.9 python-Levenshtein-0.20.9 rapidfuzz-2.15.1\n",
            "Looking in indexes: https://pypi.org/simple, https://us-python.pkg.dev/colab-wheels/public/simple/\n",
            "Collecting deep-translator\n",
            "  Downloading deep_translator-1.10.1-py3-none-any.whl (35 kB)\n",
            "Requirement already satisfied: beautifulsoup4<5.0.0,>=4.9.1 in /usr/local/lib/python3.9/dist-packages (from deep-translator) (4.11.2)\n",
            "Requirement already satisfied: requests<3.0.0,>=2.23.0 in /usr/local/lib/python3.9/dist-packages (from deep-translator) (2.27.1)\n",
            "Requirement already satisfied: soupsieve>1.2 in /usr/local/lib/python3.9/dist-packages (from beautifulsoup4<5.0.0,>=4.9.1->deep-translator) (2.4)\n",
            "Requirement already satisfied: charset-normalizer~=2.0.0 in /usr/local/lib/python3.9/dist-packages (from requests<3.0.0,>=2.23.0->deep-translator) (2.0.12)\n",
            "Requirement already satisfied: idna<4,>=2.5 in /usr/local/lib/python3.9/dist-packages (from requests<3.0.0,>=2.23.0->deep-translator) (3.4)\n",
            "Requirement already satisfied: certifi>=2017.4.17 in /usr/local/lib/python3.9/dist-packages (from requests<3.0.0,>=2.23.0->deep-translator) (2022.12.7)\n",
            "Requirement already satisfied: urllib3<1.27,>=1.21.1 in /usr/local/lib/python3.9/dist-packages (from requests<3.0.0,>=2.23.0->deep-translator) (1.26.15)\n",
            "Installing collected packages: deep-translator\n",
            "Successfully installed deep-translator-1.10.1\n"
          ]
        }
      ]
    },
    {
      "cell_type": "code",
      "source": [
        "import datetime\n",
        "import sys\n",
        "import os,shutil\n",
        "import re\n",
        "from icrawler.builtin import google, GoogleImageCrawler\n",
        "from spellchecker import SpellChecker\n",
        "from fuzzywuzzy import fuzz\n",
        "from typing import Literal\n",
        "from string import ascii_letters\n",
        "import textwrap\n",
        "from PIL import ImageFont\n",
        "from PIL import Image\n",
        "from PIL import ImageDraw\n",
        "from deep_translator import GoogleTranslator\n",
        "import easyocr"
      ],
      "metadata": {
        "id": "A48qr1VJzXsG"
      },
      "execution_count": null,
      "outputs": []
    },
    {
      "cell_type": "code",
      "source": [
        "def get_crawled_image_names(parent_path=None):\n",
        "  list_ = os.listdir(parent_path)\n",
        "  ext = ['jpg','jpeg','png','bmp']\n",
        "\n",
        "  filtered = [x for x in list_ if any(y in x for y in ext)]\n",
        "  \n",
        "  return filtered"
      ],
      "metadata": {
        "id": "kJNohfcGbGSj"
      },
      "execution_count": null,
      "outputs": []
    },
    {
      "cell_type": "code",
      "source": [
        "def generate_html_table(processed_data=None,directory_name=None):\n",
        "\n",
        "    print(\"\\nGenerateing HTML table started ...\")\n",
        "\n",
        "    if processed_data == None:\n",
        "         print(\"Stoped: No processed data found!\")\n",
        "         return\n",
        "    \n",
        "    count = len(processed_data)\n",
        "    str_rows=\"\"\n",
        "    row_header = \"<tr>\\n\"\\\n",
        "                 \"\\t<td align='center'><h1>Quote</h1></td>\\n\"\\\n",
        "                 \"\\t<td align='center'><h1>Background</h1></td>\\n\"\\\n",
        "                 \"\\t<td align='center'><h1>Last File</h1></td>\\n\"\\\n",
        "                 \"</tr>\"\n",
        "\n",
        "    for i in range(count):\n",
        "\n",
        "          source = processed_data[i][\"source_file\"]\n",
        "\n",
        "          wallpaper=processed_data[i][\"background\"]\n",
        "\n",
        "          generated=processed_data[i][\"generated\"]\n",
        "          row_str =\"<tr>\\n\"\\\n",
        "                   \"\\t<td><img src='.\"+source+\"' width='300' height='200'/></td>\\n\"\\\n",
        "                   \"\\t<td><img src='.\"+wallpaper+\"' width='300' height='200'/></td>\\n\"\\\n",
        "                   \"\\t<td><img src='.\"+generated+\"' width='300' height='200'/></td>\\n\"\\\n",
        "                   \"</tr>\"\n",
        "          \n",
        "          str_rows = str_rows + row_str\n",
        "    \n",
        "    print(\"Collected \" +str(count)+\" images ...\")\n",
        "\n",
        "    table_str = \"<table align='center' border='1'>\\n\" + row_header + str_rows + \"\\n</table>\"\n",
        "\n",
        "    html_text = header_text + table_str\n",
        "    try:\n",
        "      readme = open(directory_name+\"/README.MD\", 'w')\n",
        "      readme.write(html_text)\n",
        "      readme.close() \n",
        "\n",
        "      print(\"HTML table saved in:\", \"/README.MD\")\n",
        "    except Exception as err:\n",
        "      print(f\"Unexpected {err=}, {type(err)=}\")\n",
        "\n",
        "    \n",
        "\n",
        "    print()\n",
        "\n"
      ],
      "metadata": {
        "id": "WEr_dkuYcHSF"
      },
      "execution_count": null,
      "outputs": []
    },
    {
      "cell_type": "code",
      "source": [
        "google_crawler = GoogleImageCrawler()\n",
        "google_crawler.crawl(keyword = \"Anne shirley quote\", offset = 0, max_num = 20, min_size = None, max_size = None)"
      ],
      "metadata": {
        "id": "qQU9yB0BvK_H"
      },
      "execution_count": null,
      "outputs": []
    },
    {
      "cell_type": "code",
      "source": [
        "if os.path.exists(\"/content/anne_quotes\"):\n",
        "  shutil.rmtree(\"/content/anne_quotes\")\n",
        "os.rename(\"/content/images\", \"/content/anne_quotes\")"
      ],
      "metadata": {
        "id": "JjW2KDwb70He"
      },
      "execution_count": null,
      "outputs": []
    },
    {
      "cell_type": "code",
      "source": [
        "google_crawler = GoogleImageCrawler()\n",
        "google_crawler.crawl(keyword = \"Background\", offset = 0, max_num = 20, min_size = None, max_size = None)"
      ],
      "metadata": {
        "id": "KyUexQtk9cQJ",
        "colab": {
          "base_uri": "https://localhost:8080/"
        },
        "outputId": "b808621c-5339-468a-bf06-f0e401d826b3"
      },
      "execution_count": null,
      "outputs": [
        {
          "output_type": "stream",
          "name": "stderr",
          "text": [
            "ERROR:downloader:Exception caught when downloading file https://png.png, error: HTTPSConnectionPool(host='png.png', port=443): Max retries exceeded with url: / (Caused by NewConnectionError('<urllib3.connection.HTTPSConnection object at 0x7f675f05e7f0>: Failed to establish a new connection: [Errno -2] Name or service not known')), remaining retry times: 2\n",
            "ERROR:downloader:Exception caught when downloading file https://png.png, error: HTTPSConnectionPool(host='png.png', port=443): Max retries exceeded with url: / (Caused by NewConnectionError('<urllib3.connection.HTTPSConnection object at 0x7f675f05e760>: Failed to establish a new connection: [Errno -2] Name or service not known')), remaining retry times: 1\n",
            "ERROR:downloader:Exception caught when downloading file https://png.png, error: HTTPSConnectionPool(host='png.png', port=443): Max retries exceeded with url: / (Caused by NewConnectionError('<urllib3.connection.HTTPSConnection object at 0x7f675f05e5e0>: Failed to establish a new connection: [Errno -2] Name or service not known')), remaining retry times: 0\n",
            "ERROR:downloader:Response status code 403, file https://img.rawpixel.com/s3fs-private/rawpixel_images/website_content/v1016-c-08_1-ksh6mza3.jpg\n",
            "ERROR:downloader:Response status code 400, file https://media.istockphoto.com/id/1323860984/vector/green-background-in-vector-illustration-with-glow-and-lights.jpg\n",
            "ERROR:downloader:Response status code 400, file https://media.istockphoto.com/id/1252492857/vector/abstract-white-monochrome-vector-background-for-design-brochure-website-flyer-geometric.jpg\n",
            "ERROR:downloader:Response status code 403, file https://img.rawpixel.com/s3fs-private/rawpixel_images/website_content/v546batch3-mynt-34-badgewatercolor_1.jpg\n"
          ]
        }
      ]
    },
    {
      "cell_type": "code",
      "source": [
        "if os.path.exists(\"/content/images\"):\n",
        "  os.rename(\"/content/images\",\"/content/backgrounds\")"
      ],
      "metadata": {
        "id": "pQq076vlFWUa"
      },
      "execution_count": null,
      "outputs": []
    },
    {
      "cell_type": "code",
      "source": [
        "translator = GoogleTranslator(source='auto', target='fa')\n",
        "my_font = ImageFont.truetype(font = '/content/BNazanin_0.ttf',size= 50)\n",
        "processed_images = []"
      ],
      "metadata": {
        "id": "ZwSCcxAOUT2S"
      },
      "execution_count": null,
      "outputs": []
    },
    {
      "cell_type": "code",
      "source": [
        "anne_img_names = get_crawled_image_names(\"/content/anne_quotes\")\n",
        "background_img_names = get_crawled_image_names(\"/content/backgrounds\")\n",
        "\n",
        "for i in range(20):\n",
        "  anne_img_name = \"/content/anne_quotes/\" + anne_img_names[i]\n",
        "  background_img_name = \"/content/backgrounds/\" + background_img_names[i]\n",
        "  generated_img_name = \"/content/output/\"+ str(i + 1)+\".jpg\"\n",
        "\n",
        "  easyocr_reader = easyocr.Reader([\"en\"], gpu=False)\n",
        "  list_of_text = easyocr_reader.readtext(anne_img_name, detail = 0)\n",
        "\n",
        "  text = str('')\n",
        "  for item in list_of_text:\n",
        "    text = text + ' '+ item\n",
        "\n",
        "  compiled = re.compile(re.escape('anne'), re.IGNORECASE)\n",
        "  text = compiled.sub('', text)\n",
        "  compiled = re.compile(re.escape('shirley'), re.IGNORECASE)\n",
        "  text = compiled.sub('', text)\n",
        "  text = text.replace('\\n',' ')\n",
        "  text = re.sub('\\s+', ' ', text)\n",
        "\n",
        "  words = text.split()\n",
        "  final_text=\"\"\n",
        "  spell = SpellChecker()\n",
        "  for word in words:\n",
        "    misspelled = spell.unknown([word])\n",
        "    if len(misspelled)==1:\n",
        "      correct = spell.correction(word)\n",
        "      if correct == None:\n",
        "        final_text = final_text+ \" \"+ word\n",
        "      else:\n",
        "        final_text = final_text+\" \"+ spell.correction(word)\n",
        "    else:\n",
        "      if final_text ==\"\":\n",
        "        final_text = word\n",
        "      else:\n",
        "        final_text = final_text+ \" \"+ word\n",
        "\n",
        "  best_file=\"\"\n",
        "  best_match = 0\n",
        "  list_ = os.listdir(\"/content/books\")\n",
        "  for f in list_:\n",
        "    path_ = \"/content/books\" +\"/\"+ str(f) \n",
        "    file = open(path_,\"r\")\n",
        "    content = file.read()\n",
        "    ratio = fuzz.token_set_ratio(final_text, content)\n",
        "    if best_match < ratio:\n",
        "      best_match = ratio\n",
        "      best_file = f\n",
        "\n",
        "  if best_match < 0.85 :\n",
        "    continue\n",
        "\n",
        "  translated = translator.translate(text=final_text)\n",
        "\n",
        "  out_img = Image.open(background_img_name)\n",
        "  draw = ImageDraw.Draw(out_img)\n",
        "  width  = out_img.width\n",
        "  height = out_img.height\n",
        "  img_center = (width/2,height/2)\n",
        "      \n",
        "  draw.text(xy = img_center,\n",
        "            text = translated,\n",
        "            fill=\"Red\",\n",
        "            stroke_fill=\"Black\",\n",
        "            stroke_width=10,\n",
        "            font=my_font,\n",
        "            direction=\"rtl\",\n",
        "            language='fa',\n",
        "            anchor ='mm',\n",
        "            Literal='center',\n",
        "            align='right')\n",
        "  \n",
        "  out_img.save(generated_img_name)\n",
        "\n",
        "  anne_img_name = anne_img_name.replace(\"/content/drive/MyDrive/Colab Notebooks/Image_Crawling.ipynb\",\"\")\n",
        "  background_img_name = background_img_name.replace(\"/content/drive/MyDrive/Colab Notebooks/Image_Crawling.ipynb\",\"\")\n",
        "  generated_img_name = generated_img_name.replace(\"/content/drive/MyDrive/Colab Notebooks/Image_Crawling.ipynb\",\"\")\n",
        "\n",
        "  processed_images.append({\"source_file\":anne_img_name, \"background\":background_img_name ,\"generated\":generated_img_name})\n",
        "\n",
        "  print(\"Generated image(text match:\"+str(best_match)+\"%) #\",generated_img_name)\n",
        "  \n",
        "generate_html_table(processed_data = processed_images, directory_name = \"/content/drive/MyDrive/Colab Notebooks/Image_Crawling.ipynb\")"
      ],
      "metadata": {
        "colab": {
          "base_uri": "https://localhost:8080/",
          "height": 995
        },
        "id": "gRuyI6UxaY-N",
        "outputId": "b40ccbd6-9740-4b60-db66-5f26e0d1ce38"
      },
      "execution_count": null,
      "outputs": [
        {
          "output_type": "stream",
          "name": "stderr",
          "text": [
            "WARNING:easyocr.easyocr:Using CPU. Note: This module is much faster with a GPU.\n",
            "WARNING:easyocr.easyocr:Using CPU. Note: This module is much faster with a GPU.\n"
          ]
        },
        {
          "output_type": "stream",
          "name": "stdout",
          "text": [
            "Generated image(text match:78%) # /content/output/1.jpg\n"
          ]
        },
        {
          "output_type": "stream",
          "name": "stderr",
          "text": [
            "WARNING:easyocr.easyocr:Using CPU. Note: This module is much faster with a GPU.\n"
          ]
        },
        {
          "output_type": "stream",
          "name": "stdout",
          "text": [
            "Generated image(text match:97%) # /content/output/2.jpg\n"
          ]
        },
        {
          "output_type": "stream",
          "name": "stderr",
          "text": [
            "WARNING:easyocr.easyocr:Using CPU. Note: This module is much faster with a GPU.\n"
          ]
        },
        {
          "output_type": "stream",
          "name": "stdout",
          "text": [
            "Generated image(text match:82%) # /content/output/3.jpg\n"
          ]
        },
        {
          "output_type": "stream",
          "name": "stderr",
          "text": [
            "WARNING:easyocr.easyocr:Using CPU. Note: This module is much faster with a GPU.\n"
          ]
        },
        {
          "output_type": "stream",
          "name": "stdout",
          "text": [
            "Generated image(text match:96%) # /content/output/4.jpg\n"
          ]
        },
        {
          "output_type": "stream",
          "name": "stderr",
          "text": [
            "WARNING:easyocr.easyocr:Using CPU. Note: This module is much faster with a GPU.\n"
          ]
        },
        {
          "output_type": "stream",
          "name": "stdout",
          "text": [
            "Generated image(text match:82%) # /content/output/5.jpg\n"
          ]
        },
        {
          "output_type": "stream",
          "name": "stderr",
          "text": [
            "WARNING:easyocr.easyocr:Using CPU. Note: This module is much faster with a GPU.\n"
          ]
        },
        {
          "output_type": "stream",
          "name": "stdout",
          "text": [
            "Generated image(text match:98%) # /content/output/6.jpg\n"
          ]
        },
        {
          "output_type": "stream",
          "name": "stderr",
          "text": [
            "WARNING:easyocr.easyocr:Using CPU. Note: This module is much faster with a GPU.\n"
          ]
        },
        {
          "output_type": "stream",
          "name": "stdout",
          "text": [
            "Generated image(text match:100%) # /content/output/7.jpg\n"
          ]
        },
        {
          "output_type": "stream",
          "name": "stderr",
          "text": [
            "WARNING:easyocr.easyocr:Using CPU. Note: This module is much faster with a GPU.\n"
          ]
        },
        {
          "output_type": "stream",
          "name": "stdout",
          "text": [
            "Generated image(text match:98%) # /content/output/8.jpg\n"
          ]
        },
        {
          "output_type": "stream",
          "name": "stderr",
          "text": [
            "WARNING:easyocr.easyocr:Using CPU. Note: This module is much faster with a GPU.\n"
          ]
        },
        {
          "output_type": "stream",
          "name": "stdout",
          "text": [
            "Generated image(text match:58%) # /content/output/9.jpg\n"
          ]
        },
        {
          "output_type": "stream",
          "name": "stderr",
          "text": [
            "WARNING:easyocr.easyocr:Using CPU. Note: This module is much faster with a GPU.\n"
          ]
        },
        {
          "output_type": "stream",
          "name": "stdout",
          "text": [
            "Generated image(text match:89%) # /content/output/10.jpg\n"
          ]
        },
        {
          "output_type": "stream",
          "name": "stderr",
          "text": [
            "WARNING:easyocr.easyocr:Using CPU. Note: This module is much faster with a GPU.\n"
          ]
        },
        {
          "output_type": "stream",
          "name": "stdout",
          "text": [
            "Generated image(text match:42%) # /content/output/11.jpg\n"
          ]
        },
        {
          "output_type": "stream",
          "name": "stderr",
          "text": [
            "WARNING:easyocr.easyocr:Using CPU. Note: This module is much faster with a GPU.\n"
          ]
        },
        {
          "output_type": "stream",
          "name": "stdout",
          "text": [
            "Generated image(text match:70%) # /content/output/12.jpg\n"
          ]
        },
        {
          "output_type": "stream",
          "name": "stderr",
          "text": [
            "WARNING:easyocr.easyocr:Using CPU. Note: This module is much faster with a GPU.\n"
          ]
        },
        {
          "output_type": "stream",
          "name": "stdout",
          "text": [
            "Generated image(text match:77%) # /content/output/13.jpg\n"
          ]
        },
        {
          "output_type": "stream",
          "name": "stderr",
          "text": [
            "WARNING:easyocr.easyocr:Using CPU. Note: This module is much faster with a GPU.\n"
          ]
        },
        {
          "output_type": "stream",
          "name": "stdout",
          "text": [
            "Generated image(text match:79%) # /content/output/14.jpg\n"
          ]
        },
        {
          "output_type": "stream",
          "name": "stderr",
          "text": [
            "WARNING:easyocr.easyocr:Using CPU. Note: This module is much faster with a GPU.\n"
          ]
        },
        {
          "output_type": "stream",
          "name": "stdout",
          "text": [
            "Generated image(text match:95%) # /content/output/15.jpg\n"
          ]
        },
        {
          "output_type": "error",
          "ename": "OSError",
          "evalue": "ignored",
          "traceback": [
            "\u001b[0;31m---------------------------------------------------------------------------\u001b[0m",
            "\u001b[0;31mKeyError\u001b[0m                                  Traceback (most recent call last)",
            "\u001b[0;32m/usr/local/lib/python3.9/dist-packages/PIL/JpegImagePlugin.py\u001b[0m in \u001b[0;36m_save\u001b[0;34m(im, fp, filename)\u001b[0m\n\u001b[1;32m    628\u001b[0m     \u001b[0;32mtry\u001b[0m\u001b[0;34m:\u001b[0m\u001b[0;34m\u001b[0m\u001b[0;34m\u001b[0m\u001b[0m\n\u001b[0;32m--> 629\u001b[0;31m         \u001b[0mrawmode\u001b[0m \u001b[0;34m=\u001b[0m \u001b[0mRAWMODE\u001b[0m\u001b[0;34m[\u001b[0m\u001b[0mim\u001b[0m\u001b[0;34m.\u001b[0m\u001b[0mmode\u001b[0m\u001b[0;34m]\u001b[0m\u001b[0;34m\u001b[0m\u001b[0;34m\u001b[0m\u001b[0m\n\u001b[0m\u001b[1;32m    630\u001b[0m     \u001b[0;32mexcept\u001b[0m \u001b[0mKeyError\u001b[0m \u001b[0;32mas\u001b[0m \u001b[0me\u001b[0m\u001b[0;34m:\u001b[0m\u001b[0;34m\u001b[0m\u001b[0;34m\u001b[0m\u001b[0m\n",
            "\u001b[0;31mKeyError\u001b[0m: 'RGBA'",
            "\nThe above exception was the direct cause of the following exception:\n",
            "\u001b[0;31mOSError\u001b[0m                                   Traceback (most recent call last)",
            "\u001b[0;32m<ipython-input-29-088cbe86adff>\u001b[0m in \u001b[0;36m<cell line: 4>\u001b[0;34m()\u001b[0m\n\u001b[1;32m     73\u001b[0m             align='right')\n\u001b[1;32m     74\u001b[0m \u001b[0;34m\u001b[0m\u001b[0m\n\u001b[0;32m---> 75\u001b[0;31m   \u001b[0mout_img\u001b[0m\u001b[0;34m.\u001b[0m\u001b[0msave\u001b[0m\u001b[0;34m(\u001b[0m\u001b[0mgenerated_img_name\u001b[0m\u001b[0;34m)\u001b[0m\u001b[0;34m\u001b[0m\u001b[0;34m\u001b[0m\u001b[0m\n\u001b[0m\u001b[1;32m     76\u001b[0m \u001b[0;34m\u001b[0m\u001b[0m\n\u001b[1;32m     77\u001b[0m   \u001b[0manne_img_name\u001b[0m \u001b[0;34m=\u001b[0m \u001b[0manne_img_name\u001b[0m\u001b[0;34m.\u001b[0m\u001b[0mreplace\u001b[0m\u001b[0;34m(\u001b[0m\u001b[0;34m\"/content/drive/MyDrive/Colab Notebooks/Image_Crawling.ipynb\"\u001b[0m\u001b[0;34m,\u001b[0m\u001b[0;34m\"\"\u001b[0m\u001b[0;34m)\u001b[0m\u001b[0;34m\u001b[0m\u001b[0;34m\u001b[0m\u001b[0m\n",
            "\u001b[0;32m/usr/local/lib/python3.9/dist-packages/PIL/Image.py\u001b[0m in \u001b[0;36msave\u001b[0;34m(self, fp, format, **params)\u001b[0m\n\u001b[1;32m   2238\u001b[0m \u001b[0;34m\u001b[0m\u001b[0m\n\u001b[1;32m   2239\u001b[0m         \u001b[0;32mtry\u001b[0m\u001b[0;34m:\u001b[0m\u001b[0;34m\u001b[0m\u001b[0;34m\u001b[0m\u001b[0m\n\u001b[0;32m-> 2240\u001b[0;31m             \u001b[0msave_handler\u001b[0m\u001b[0;34m(\u001b[0m\u001b[0mself\u001b[0m\u001b[0;34m,\u001b[0m \u001b[0mfp\u001b[0m\u001b[0;34m,\u001b[0m \u001b[0mfilename\u001b[0m\u001b[0;34m)\u001b[0m\u001b[0;34m\u001b[0m\u001b[0;34m\u001b[0m\u001b[0m\n\u001b[0m\u001b[1;32m   2241\u001b[0m         \u001b[0;32mfinally\u001b[0m\u001b[0;34m:\u001b[0m\u001b[0;34m\u001b[0m\u001b[0;34m\u001b[0m\u001b[0m\n\u001b[1;32m   2242\u001b[0m             \u001b[0;31m# do what we can to clean up\u001b[0m\u001b[0;34m\u001b[0m\u001b[0;34m\u001b[0m\u001b[0m\n",
            "\u001b[0;32m/usr/local/lib/python3.9/dist-packages/PIL/JpegImagePlugin.py\u001b[0m in \u001b[0;36m_save\u001b[0;34m(im, fp, filename)\u001b[0m\n\u001b[1;32m    629\u001b[0m         \u001b[0mrawmode\u001b[0m \u001b[0;34m=\u001b[0m \u001b[0mRAWMODE\u001b[0m\u001b[0;34m[\u001b[0m\u001b[0mim\u001b[0m\u001b[0;34m.\u001b[0m\u001b[0mmode\u001b[0m\u001b[0;34m]\u001b[0m\u001b[0;34m\u001b[0m\u001b[0;34m\u001b[0m\u001b[0m\n\u001b[1;32m    630\u001b[0m     \u001b[0;32mexcept\u001b[0m \u001b[0mKeyError\u001b[0m \u001b[0;32mas\u001b[0m \u001b[0me\u001b[0m\u001b[0;34m:\u001b[0m\u001b[0;34m\u001b[0m\u001b[0;34m\u001b[0m\u001b[0m\n\u001b[0;32m--> 631\u001b[0;31m         \u001b[0;32mraise\u001b[0m \u001b[0mOSError\u001b[0m\u001b[0;34m(\u001b[0m\u001b[0;34mf\"cannot write mode {im.mode} as JPEG\"\u001b[0m\u001b[0;34m)\u001b[0m \u001b[0;32mfrom\u001b[0m \u001b[0me\u001b[0m\u001b[0;34m\u001b[0m\u001b[0;34m\u001b[0m\u001b[0m\n\u001b[0m\u001b[1;32m    632\u001b[0m \u001b[0;34m\u001b[0m\u001b[0m\n\u001b[1;32m    633\u001b[0m     \u001b[0minfo\u001b[0m \u001b[0;34m=\u001b[0m \u001b[0mim\u001b[0m\u001b[0;34m.\u001b[0m\u001b[0mencoderinfo\u001b[0m\u001b[0;34m\u001b[0m\u001b[0;34m\u001b[0m\u001b[0m\n",
            "\u001b[0;31mOSError\u001b[0m: cannot write mode RGBA as JPEG"
          ]
        }
      ]
    },
    {
      "cell_type": "code",
      "source": [
        "generate_html_table(processed_data = processed_images, directory_name = \"/content/drive/MyDrive/Colab Notebooks/\")"
      ],
      "metadata": {
        "colab": {
          "base_uri": "https://localhost:8080/"
        },
        "id": "RrtZkIB_hVol",
        "outputId": "f6c0c94f-a718-4970-e32a-a0d2d2db68d4"
      },
      "execution_count": null,
      "outputs": [
        {
          "output_type": "stream",
          "name": "stdout",
          "text": [
            "\n",
            "Generateing HTML table started ...\n",
            "Collected 29 images ...\n",
            "HTML table saved in: /README.MD\n",
            "\n"
          ]
        }
      ]
    },
    {
      "cell_type": "code",
      "source": [],
      "metadata": {
        "id": "NwZhaotcTdLX"
      },
      "execution_count": null,
      "outputs": []
    }
  ]
}